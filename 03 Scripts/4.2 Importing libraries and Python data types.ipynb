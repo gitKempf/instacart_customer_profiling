{
 "cells": [
  {
   "cell_type": "markdown",
   "id": "58ed3c78",
   "metadata": {},
   "source": [
    "# 4.2 Importing libraries and Python data types"
   ]
  },
  {
   "cell_type": "code",
   "execution_count": 1,
   "id": "262ec620",
   "metadata": {},
   "outputs": [],
   "source": [
    "# Import libraries\n",
    "import pandas as pd\n",
    "import numpy as np\n",
    "import os"
   ]
  },
  {
   "cell_type": "code",
   "execution_count": 2,
   "id": "9ba034b7",
   "metadata": {},
   "outputs": [
    {
     "name": "stdout",
     "output_type": "stream",
     "text": [
      "The way to get 100 x + x:  100\n",
      "The way to get 100 x * y:  100\n",
      "The way to get 100 z - x:  100\n"
     ]
    }
   ],
   "source": [
    "# Code 3 different ways of reaching a result of 100 by adding or subtracting numeric variables.\n",
    "x = 50\n",
    "y = 2\n",
    "z = 150\n",
    "\n",
    "way_to_get_100_1 = x + x\n",
    "print(\"The way to get 100 x + x: \", way_to_get_100_1)\n",
    "\n",
    "way_to_get_100_2 = x * y\n",
    "print(\"The way to get 100 x * y: \", way_to_get_100_2)\n",
    "\n",
    "way_to_get_100_3 = z - x\n",
    "print(\"The way to get 100 z - x: \",way_to_get_100_1)"
   ]
  },
  {
   "cell_type": "code",
   "execution_count": 3,
   "id": "bda97c9e",
   "metadata": {},
   "outputs": [
    {
     "name": "stdout",
     "output_type": "stream",
     "text": [
      "devided_float_vars:  0.44642857142857145\n"
     ]
    }
   ],
   "source": [
    "# Code 2 floating-point variables and divide them by each other.\n",
    "test_float_var_1 = 2.5\n",
    "test_float_var_2 = 5.6\n",
    "devided_float_vars = test_float_var_1 / test_float_var_2 \n",
    "print(\"devided_float_vars: \",devided_float_vars)"
   ]
  },
  {
   "cell_type": "code",
   "execution_count": 4,
   "id": "82a79728",
   "metadata": {},
   "outputs": [
    {
     "name": "stdout",
     "output_type": "stream",
     "text": [
      "Cow:  Cow\n"
     ]
    }
   ],
   "source": [
    "# Construct a short word made of separate strings (you’ll need to concatenate some strings!).\n",
    "cow_substring_1 = \"Co\"\n",
    "cow_substring_2 = \"w\"\n",
    "cow = cow_substring_1 + cow_substring_2\n",
    "print(\"Cow: \", cow)\n"
   ]
  },
  {
   "cell_type": "code",
   "execution_count": 8,
   "id": "512f85e8",
   "metadata": {},
   "outputs": [
    {
     "name": "stdout",
     "output_type": "stream",
     "text": [
      "Cow:  The Cow goes Moooooo!\n",
      "Dog:  The Dog goes Bark! Bark! Bark! \n"
     ]
    }
   ],
   "source": [
    "# Construct 2 short sentences made of separate strings.\n",
    "sentence_template = \"The {} goes {}\"\n",
    "\n",
    "cow_voice = \"M\" + 6 * \"o\" + \"!\"\n",
    "dog_voice = 3 * \"Bark! \"\n",
    "\n",
    "cow_sentence = sentence_template.format(cow, cow_voice)\n",
    "print(\"Cow: \",cow_sentence)\n",
    "\n",
    "dog_sentence = sentence_template.format(\"Dog\", dog_voice)\n",
    "print(\"Dog: \", dog_sentence)\n",
    "\n",
    "print"
   ]
  },
  {
   "cell_type": "code",
   "execution_count": 11,
   "id": "a2994519",
   "metadata": {},
   "outputs": [
    {
     "name": "stdout",
     "output_type": "stream",
     "text": [
      "The Dog goes Bark! Bark! Bark! \n",
      "The Dog goes Bark! Bark! Bark! \n",
      "The Dog goes Bark! Bark! Bark! \n",
      "The Dog goes Bark! Bark! Bark! \n",
      "The Dog goes Bark! Bark! Bark! \n",
      "The Dog goes Bark! Bark! Bark! \n",
      "The Dog goes Bark! Bark! Bark! \n",
      "The Dog goes Bark! Bark! Bark! \n",
      "The Dog goes Bark! Bark! Bark! \n",
      "The Dog goes Bark! Bark! Bark! \n",
      "The Dog goes Bark! Bark! Bark! \n",
      "The Dog goes Bark! Bark! Bark! \n",
      "The Dog goes Bark! Bark! Bark! \n",
      "The Dog goes Bark! Bark! Bark! \n",
      "The Dog goes Bark! Bark! Bark! \n",
      "The Dog goes Bark! Bark! Bark! \n",
      "The Dog goes Bark! Bark! Bark! \n",
      "The Dog goes Bark! Bark! Bark! \n",
      "The Dog goes Bark! Bark! Bark! \n",
      "The Dog goes Bark! Bark! Bark! \n",
      "The Dog goes Bark! Bark! Bark! \n",
      "The Dog goes Bark! Bark! Bark! \n",
      "The Dog goes Bark! Bark! Bark! \n",
      "The Dog goes Bark! Bark! Bark! \n",
      "The Dog goes Bark! Bark! Bark! \n",
      "The Dog goes Bark! Bark! Bark! \n",
      "The Dog goes Bark! Bark! Bark! \n",
      "The Dog goes Bark! Bark! Bark! \n",
      "The Dog goes Bark! Bark! Bark! \n",
      "The Dog goes Bark! Bark! Bark! \n",
      "The Dog goes Bark! Bark! Bark! \n",
      "The Dog goes Bark! Bark! Bark! \n",
      "The Dog goes Bark! Bark! Bark! \n",
      "The Dog goes Bark! Bark! Bark! \n",
      "The Dog goes Bark! Bark! Bark! \n",
      "The Dog goes Bark! Bark! Bark! \n",
      "The Dog goes Bark! Bark! Bark! \n",
      "The Dog goes Bark! Bark! Bark! \n",
      "The Dog goes Bark! Bark! Bark! \n",
      "The Dog goes Bark! Bark! Bark! \n",
      "The Dog goes Bark! Bark! Bark! \n",
      "The Dog goes Bark! Bark! Bark! \n",
      "The Dog goes Bark! Bark! Bark! \n",
      "The Dog goes Bark! Bark! Bark! \n",
      "The Dog goes Bark! Bark! Bark! \n",
      "The Dog goes Bark! Bark! Bark! \n",
      "The Dog goes Bark! Bark! Bark! \n",
      "The Dog goes Bark! Bark! Bark! \n",
      "The Dog goes Bark! Bark! Bark! \n",
      "The Dog goes Bark! Bark! Bark! \n",
      "The Dog goes Bark! Bark! Bark! \n",
      "The Dog goes Bark! Bark! Bark! \n",
      "The Dog goes Bark! Bark! Bark! \n",
      "The Dog goes Bark! Bark! Bark! \n",
      "The Dog goes Bark! Bark! Bark! \n",
      "The Dog goes Bark! Bark! Bark! \n",
      "The Dog goes Bark! Bark! Bark! \n",
      "The Dog goes Bark! Bark! Bark! \n",
      "The Dog goes Bark! Bark! Bark! \n",
      "The Dog goes Bark! Bark! Bark! \n",
      "The Dog goes Bark! Bark! Bark! \n",
      "The Dog goes Bark! Bark! Bark! \n",
      "The Dog goes Bark! Bark! Bark! \n",
      "The Dog goes Bark! Bark! Bark! \n",
      "The Dog goes Bark! Bark! Bark! \n",
      "The Dog goes Bark! Bark! Bark! \n",
      "The Dog goes Bark! Bark! Bark! \n",
      "The Dog goes Bark! Bark! Bark! \n",
      "The Dog goes Bark! Bark! Bark! \n",
      "The Dog goes Bark! Bark! Bark! \n",
      "The Dog goes Bark! Bark! Bark! \n",
      "The Dog goes Bark! Bark! Bark! \n",
      "The Dog goes Bark! Bark! Bark! \n",
      "The Dog goes Bark! Bark! Bark! \n",
      "The Dog goes Bark! Bark! Bark! \n",
      "The Dog goes Bark! Bark! Bark! \n",
      "The Dog goes Bark! Bark! Bark! \n",
      "The Dog goes Bark! Bark! Bark! \n",
      "The Dog goes Bark! Bark! Bark! \n",
      "The Dog goes Bark! Bark! Bark! \n",
      "The Dog goes Bark! Bark! Bark! \n",
      "The Dog goes Bark! Bark! Bark! \n",
      "The Dog goes Bark! Bark! Bark! \n",
      "The Dog goes Bark! Bark! Bark! \n",
      "The Dog goes Bark! Bark! Bark! \n",
      "The Dog goes Bark! Bark! Bark! \n",
      "The Dog goes Bark! Bark! Bark! \n",
      "The Dog goes Bark! Bark! Bark! \n",
      "The Dog goes Bark! Bark! Bark! \n",
      "The Dog goes Bark! Bark! Bark! \n",
      "The Dog goes Bark! Bark! Bark! \n",
      "The Dog goes Bark! Bark! Bark! \n",
      "The Dog goes Bark! Bark! Bark! \n",
      "The Dog goes Bark! Bark! Bark! \n",
      "The Dog goes Bark! Bark! Bark! \n",
      "The Dog goes Bark! Bark! Bark! \n",
      "The Dog goes Bark! Bark! Bark! \n",
      "The Dog goes Bark! Bark! Bark! \n",
      "The Dog goes Bark! Bark! Bark! \n",
      "The Dog goes Bark! Bark! Bark! \n",
      "\n"
     ]
    }
   ],
   "source": [
    "# At the bottom of your file, include a command that makes a string appear 100 times.\n",
    "\n",
    "print( 100 * (dog_sentence + \"\\n\" ) )"
   ]
  },
  {
   "cell_type": "code",
   "execution_count": null,
   "id": "fcb36a9c",
   "metadata": {},
   "outputs": [],
   "source": []
  }
 ],
 "metadata": {
  "kernelspec": {
   "display_name": "Python 3 (ipykernel)",
   "language": "python",
   "name": "python3"
  },
  "language_info": {
   "codemirror_mode": {
    "name": "ipython",
    "version": 3
   },
   "file_extension": ".py",
   "mimetype": "text/x-python",
   "name": "python",
   "nbconvert_exporter": "python",
   "pygments_lexer": "ipython3",
   "version": "3.9.13"
  }
 },
 "nbformat": 4,
 "nbformat_minor": 5
}
